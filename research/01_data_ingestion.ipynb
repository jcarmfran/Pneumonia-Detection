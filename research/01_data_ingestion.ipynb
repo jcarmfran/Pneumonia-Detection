{
 "cells": [
  {
   "cell_type": "code",
   "execution_count": 1,
   "metadata": {},
   "outputs": [],
   "source": [
    "import os\n",
    "from dataclasses import dataclass\n",
    "from pathlib import Path\n",
    "import urllib.request as request\n",
    "import gdown\n",
    "import zipfile\n",
    "from pneuDetection import logger\n",
    "from pneuDetection.constants import *\n",
    "from pneuDetection.utils.common import read_yaml, create_directories, get_size"
   ]
  },
  {
   "cell_type": "code",
   "execution_count": 2,
   "metadata": {},
   "outputs": [
    {
     "data": {
      "text/plain": [
       "'c:\\\\Users\\\\cisco\\\\Python_Projects\\\\ML+AI\\\\Pneumonia-Detection\\\\research'"
      ]
     },
     "execution_count": 2,
     "metadata": {},
     "output_type": "execute_result"
    }
   ],
   "source": [
    "%pwd"
   ]
  },
  {
   "cell_type": "code",
   "execution_count": 4,
   "metadata": {},
   "outputs": [
    {
     "data": {
      "text/plain": [
       "'c:\\\\Users\\\\cisco\\\\Python_Projects\\\\ML+AI\\\\Pneumonia-Detection'"
      ]
     },
     "execution_count": 4,
     "metadata": {},
     "output_type": "execute_result"
    }
   ],
   "source": [
    "os.chdir(\"../\")\n",
    "%pwd"
   ]
  },
  {
   "cell_type": "code",
   "execution_count": 5,
   "metadata": {},
   "outputs": [],
   "source": [
    "@dataclass(frozen=True)\n",
    "class DataIngestionConfig:\n",
    "    root_dir: Path         # config.yaml - data_ingestion\n",
    "    source_URL: str\n",
    "    local_data_file: Path\n",
    "    unzip_dir: Path"
   ]
  },
  {
   "cell_type": "code",
   "execution_count": 6,
   "metadata": {},
   "outputs": [],
   "source": [
    "class ConfigurationManager:\n",
    "    def __init__(\n",
    "        self,\n",
    "        config_filepath = CONFIG_FILE_PATH,  # src/pneuDetection/constants/__init__.py >> config.yaml\n",
    "        params_filepath = PARAMS_FILE_PATH): # src/pneuDetection/constants/__init__.py >> params.yaml\n",
    "\n",
    "        self.config = read_yaml(config_filepath)\n",
    "        self.params = read_yaml(params_filepath)\n",
    "\n",
    "        create_directories([self.config.artifacts_root]) # creating artifacts folder\n",
    "\n",
    "\n",
    "    def get_data_ingestion_config(self) -> DataIngestionConfig: # DataIngestionConfig type: root_dir, source_URL, local_data_file, unzip_dir\n",
    "        config = self.config.data_ingestion # extracting data_ingestion from config.yaml\n",
    "\n",
    "        create_directories([config.root_dir])\n",
    "\n",
    "        data_ingestion_config = DataIngestionConfig(\n",
    "            root_dir=config.root_dir,\n",
    "            source_URL=config.source_URL,\n",
    "            local_data_file=config.local_data_file,\n",
    "            unzip_dir=config.unzip_dir \n",
    "        )\n",
    "\n",
    "        return data_ingestion_config"
   ]
  },
  {
   "cell_type": "code",
   "execution_count": 7,
   "metadata": {},
   "outputs": [],
   "source": [
    "class DataIngestion:\n",
    "    def __init__(self, config: DataIngestionConfig): # config via ConfigurationManager\n",
    "        self.config = config\n",
    "\n",
    "\n",
    "    def download_file(self)-> str:\n",
    "        '''\n",
    "        Fetch data from the url\n",
    "        '''\n",
    "\n",
    "        try: \n",
    "            prefix = 'https://drive.google.com/uc?/export=download&id=' # GoogleDrive standard prefix (valid as of 4/24/2024)\n",
    "            dataset_url = self.config.source_URL # config.yaml: data_ingestion >> source_URL\n",
    "            logger.info(f\"Standard Google Drive prefix and dataset_url set.\")\n",
    "            \n",
    "            file_id = dataset_url.split(\"/\")[-2] # splitting unique key\n",
    "            logger.info(f\"Extracted file ID: {file_id}\")\n",
    "            \n",
    "            zip_download_dir = self.config.local_data_file # config.yaml: data_ingestion >> local_data_file\n",
    "            logger.info(f\"Zip download dir set: {zip_download_dir}\")\n",
    "            \n",
    "            os.makedirs(\"artifacts/data_ingestion\", exist_ok=True) # creating artifacts folders\n",
    "            logger.info(f\"End local artifacts/data_ingestion creation.\")\n",
    "            \n",
    "            logger.info(f\"Starting data download from {dataset_url} to {zip_download_dir} file\")\n",
    "            logger.info(f\"...gdown.download({prefix} + {file_id}, {zip_download_dir})...\")\n",
    "            gdown.download(prefix + file_id, zip_download_dir) \n",
    "            logger.info(f\"Completed data download from {dataset_url} to {zip_download_dir} file\")\n",
    "\n",
    "        except Exception as e:\n",
    "            raise\n",
    "\n",
    "\n",
    "    def extract_zip_file(self):\n",
    "        \"\"\"\n",
    "        zip_file_path: str\n",
    "        Extracts the zip file into the data directory\n",
    "        Function returns None\n",
    "        \"\"\"\n",
    "        logger.info(f\"Start DataIngestion.extract_zip_file\")\n",
    "        \n",
    "        logger.info(f\"Defining unzip_path...\")\n",
    "        unzip_path = self.config.unzip_dir\n",
    "        logger.info(f\"unzip_path: {unzip_path}\")\n",
    "        \n",
    "        logger.info(f\"Creating folder for unzipped data...\")\n",
    "        os.makedirs(unzip_path, exist_ok=True)\n",
    "        logger.info(f\"Complete folder creation for unzipped data: {unzip_path}\")\n",
    "        \n",
    "        logger.info(f\"Starting file extraction...\")\n",
    "        with zipfile.ZipFile(self.config.local_data_file, 'r') as zip_ref:\n",
    "            zip_ref.extractall(unzip_path)\n",
    "        logger.info(f\"Completed zip extraction.\")\n",
    "        \n",
    "        logger.info(f\"End DataIngestion.extract_zip_file.\")"
   ]
  },
  {
   "cell_type": "markdown",
   "metadata": {},
   "source": [
    "## Pipeline"
   ]
  },
  {
   "cell_type": "code",
   "execution_count": 8,
   "metadata": {},
   "outputs": [
    {
     "name": "stdout",
     "output_type": "stream",
     "text": [
      "[2024-04-23 15:26:17,771: INFO: common: yaml file: config\\config.yaml loaded successfully]\n",
      "[2024-04-23 15:26:17,772: INFO: common: yaml file: params.yaml loaded successfully]\n",
      "[2024-04-23 15:26:17,774: INFO: common: created directory at: artifacts]\n",
      "[2024-04-23 15:26:17,775: INFO: common: created directory at: artifacts/data_ingestion]\n",
      "[2024-04-23 15:26:17,776: INFO: 3162374175: Downloading data from https://drive.google.com/file/d/1WI9Axo6yRc2ayIemo-hLWpZuKlBb2ydH/view?usp=sharing into file artifacts/data_ingestion/data.zip]\n"
     ]
    },
    {
     "name": "stderr",
     "output_type": "stream",
     "text": [
      "Downloading...\n",
      "From (original): https://drive.google.com/uc?/export=download&id=1WI9Axo6yRc2ayIemo-hLWpZuKlBb2ydH\n",
      "From (redirected): https://drive.google.com/uc?%2Fexport=download&id=1WI9Axo6yRc2ayIemo-hLWpZuKlBb2ydH&confirm=t&uuid=0679840d-11f6-447e-a255-ddc4e8f496a8\n",
      "To: c:\\Users\\cisco\\Python_Projects\\ML+AI\\Pneumonia-Detection\\artifacts\\data_ingestion\\data.zip\n",
      "100%|██████████| 1.15G/1.15G [21:28<00:00, 891kB/s] "
     ]
    },
    {
     "name": "stdout",
     "output_type": "stream",
     "text": [
      "[2024-04-23 15:47:48,670: INFO: 3162374175: Downloaded data from https://drive.google.com/file/d/1WI9Axo6yRc2ayIemo-hLWpZuKlBb2ydH/view?usp=sharing into file artifacts/data_ingestion/data.zip]\n"
     ]
    },
    {
     "name": "stderr",
     "output_type": "stream",
     "text": [
      "\n"
     ]
    }
   ],
   "source": [
    "try:\n",
    "    config = ConfigurationManager()\n",
    "    data_ingestion_config = config.get_data_ingestion_config()\n",
    "    data_ingestion = DataIngestion(config=data_ingestion_config)\n",
    "    data_ingestion.download_file() \n",
    "    data_ingestion.extract_zip_file()\n",
    "except Exception as e:\n",
    "    raise e"
   ]
  }
 ],
 "metadata": {
  "kernelspec": {
   "display_name": "tf",
   "language": "python",
   "name": "python3"
  },
  "language_info": {
   "codemirror_mode": {
    "name": "ipython",
    "version": 3
   },
   "file_extension": ".py",
   "mimetype": "text/x-python",
   "name": "python",
   "nbconvert_exporter": "python",
   "pygments_lexer": "ipython3",
   "version": "3.9.18"
  }
 },
 "nbformat": 4,
 "nbformat_minor": 2
}
