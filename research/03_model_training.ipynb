{
 "cells": [
  {
   "cell_type": "code",
   "execution_count": 1,
   "metadata": {},
   "outputs": [],
   "source": [
    "import os"
   ]
  },
  {
   "cell_type": "code",
   "execution_count": 11,
   "metadata": {},
   "outputs": [
    {
     "data": {
      "text/plain": [
       "'c:\\\\Users\\\\cisco\\\\Python_Projects\\\\ML+AI\\\\Pneumonia-Detection'"
      ]
     },
     "execution_count": 11,
     "metadata": {},
     "output_type": "execute_result"
    }
   ],
   "source": [
    "%pwd"
   ]
  },
  {
   "cell_type": "code",
   "execution_count": 3,
   "metadata": {},
   "outputs": [],
   "source": [
    "os.chdir(\"../\")"
   ]
  },
  {
   "cell_type": "code",
   "execution_count": 40,
   "metadata": {},
   "outputs": [
    {
     "data": {
      "text/plain": [
       "'c:\\\\Users\\\\cisco\\\\Python_Projects\\\\ML+AI\\\\Pneumonia-Detection'"
      ]
     },
     "execution_count": 40,
     "metadata": {},
     "output_type": "execute_result"
    }
   ],
   "source": [
    "%pwd"
   ]
  },
  {
   "cell_type": "markdown",
   "metadata": {},
   "source": [
    "## Entity Configuration "
   ]
  },
  {
   "cell_type": "code",
   "execution_count": 41,
   "metadata": {},
   "outputs": [],
   "source": [
    "from dataclasses import dataclass\n",
    "from pathlib import Path\n",
    "\n",
    "\n",
    "@dataclass(frozen=True)\n",
    "class TrainingConfig:\n",
    "    root_dir: Path\n",
    "    trained_model_path: Path\n",
    "    updated_base_model_path: Path\n",
    "    training_data: Path\n",
    "    params_epochs: int\n",
    "    params_batch_size: int\n",
    "    params_is_augmentation: bool\n",
    "    params_image_size: list"
   ]
  },
  {
   "cell_type": "markdown",
   "metadata": {},
   "source": [
    "## Configuration"
   ]
  },
  {
   "cell_type": "code",
   "execution_count": 42,
   "metadata": {},
   "outputs": [],
   "source": [
    "from pneuDetection.constants import *\n",
    "from pneuDetection.utils.common import read_yaml, create_directories\n",
    "import tensorflow as tf"
   ]
  },
  {
   "cell_type": "code",
   "execution_count": 43,
   "metadata": {},
   "outputs": [],
   "source": [
    "class ConfigurationManager:\n",
    "    def __init__(\n",
    "        self,\n",
    "        config_filepath = CONFIG_FILE_PATH,\n",
    "        params_filepath = PARAMS_FILE_PATH):\n",
    "\n",
    "        self.config = read_yaml(config_filepath)\n",
    "        self.params = read_yaml(params_filepath)\n",
    "\n",
    "        create_directories([self.config.artifacts_root])\n",
    "\n",
    "\n",
    "    def get_training_config(self) -> TrainingConfig:\n",
    "        training = self.config.training\n",
    "        prepare_base_model = self.config.prepare_base_model\n",
    "        params = self.params\n",
    "        training_data = self.config.data_ingestion.unzip_dir\n",
    "        create_directories([\n",
    "            Path(training.root_dir)\n",
    "        ])\n",
    "\n",
    "        training_config = TrainingConfig(\n",
    "            root_dir=Path(training.root_dir),\n",
    "            trained_model_path=Path(training.trained_model_path),\n",
    "            updated_base_model_path=Path(prepare_base_model.updated_base_model_path),\n",
    "            training_data=Path(training_data),\n",
    "            params_epochs=params.EPOCHS,\n",
    "            params_batch_size=params.BATCH_SIZE,\n",
    "            params_is_augmentation=params.AUGMENTATION,\n",
    "            params_image_size=params.IMAGE_SIZE\n",
    "        )\n",
    "\n",
    "        return training_config"
   ]
  },
  {
   "cell_type": "markdown",
   "metadata": {},
   "source": [
    "## Components"
   ]
  },
  {
   "cell_type": "code",
   "execution_count": 44,
   "metadata": {},
   "outputs": [],
   "source": [
    "import os\n",
    "import urllib.request as request\n",
    "from zipfile import ZipFile\n",
    "import tensorflow as tf\n",
    "import time"
   ]
  },
  {
   "cell_type": "code",
   "execution_count": 45,
   "metadata": {},
   "outputs": [],
   "source": [
    "class Training:\n",
    "    def __init__(self, config: TrainingConfig):\n",
    "        self.config = config\n",
    "\n",
    "\n",
    "    def get_base_model(self):\n",
    "        self.model = tf.keras.models.load_model(\n",
    "            self.config.updated_base_model_path\n",
    "        )\n",
    "\n",
    "\n",
    "    def train_valid_generator(self):\n",
    "        datagenerator_kwargs = dict(\n",
    "            rescale = 1./255,\n",
    "            validation_split=0.20\n",
    "        )\n",
    "\n",
    "        dataflow_kwargs = dict(\n",
    "            target_size=self.config.params_image_size[:-1],\n",
    "            batch_size=self.config.params_batch_size,\n",
    "            interpolation=\"bilinear\"\n",
    "        )\n",
    "\n",
    "        valid_datagenerator = tf.keras.preprocessing.image.ImageDataGenerator(\n",
    "            **datagenerator_kwargs\n",
    "        )\n",
    "\n",
    "        self.valid_generator = valid_datagenerator.flow_from_directory(\n",
    "            directory=self.config.training_data,\n",
    "            subset=\"validation\",\n",
    "            shuffle=False,\n",
    "            **dataflow_kwargs\n",
    "        )\n",
    "\n",
    "        if self.config.params_is_augmentation:\n",
    "            train_datagenerator = tf.keras.preprocessing.image.ImageDataGenerator(\n",
    "                rotation_range=20,\n",
    "                horizontal_flip=True,\n",
    "                width_shift_range=0.15,\n",
    "                height_shift_range=0.15,\n",
    "                # shear_range=0.2,\n",
    "                # zoom_range=0.2,\n",
    "                **datagenerator_kwargs\n",
    "            )\n",
    "        else:\n",
    "            train_datagenerator = valid_datagenerator\n",
    "\n",
    "        self.train_generator = train_datagenerator.flow_from_directory(\n",
    "            directory=self.config.training_data,\n",
    "            subset=\"training\",\n",
    "            shuffle=True,\n",
    "            **dataflow_kwargs\n",
    "        )\n",
    "\n",
    "\n",
    "    @staticmethod\n",
    "    def save_model(path: Path, model: tf.keras.Model):\n",
    "        model.save(path)\n",
    "\n",
    "\n",
    "    def train(self):\n",
    "        self.steps_per_epoch = self.train_generator.samples // self.train_generator.batch_size\n",
    "        self.validation_steps = self.valid_generator.samples // self.valid_generator.batch_size\n",
    "\n",
    "        self.model.fit(\n",
    "            self.train_generator,\n",
    "            epochs=self.config.params_epochs,\n",
    "            steps_per_epoch=self.steps_per_epoch,\n",
    "            validation_steps=self.validation_steps,\n",
    "            validation_data=self.valid_generator\n",
    "        )\n",
    "\n",
    "        self.save_model(\n",
    "            path=self.config.trained_model_path,\n",
    "            model=self.model\n",
    "        )"
   ]
  },
  {
   "cell_type": "markdown",
   "metadata": {},
   "source": [
    "## Pipeline"
   ]
  },
  {
   "cell_type": "code",
   "execution_count": 46,
   "metadata": {},
   "outputs": [
    {
     "name": "stdout",
     "output_type": "stream",
     "text": [
      "[2024-04-19 15:07:27,093: INFO: common: yaml file: config\\config.yaml loaded successfully]\n",
      "[2024-04-19 15:07:27,099: INFO: common: yaml file: params.yaml loaded successfully]\n",
      "[2024-04-19 15:07:27,100: INFO: common: created directory at: artifacts]\n",
      "[2024-04-19 15:07:27,101: INFO: common: created directory at: artifacts\\training]\n",
      "Found 1045 images belonging to 2 classes.\n",
      "Found 4187 images belonging to 2 classes.\n",
      "Epoch 1/30\n",
      "65/65 [==============================] - 99s 2s/step - loss: 9.5433 - accuracy: 0.6408 - val_loss: 10.4517 - val_accuracy: 0.7373\n",
      "Epoch 2/30\n",
      "65/65 [==============================] - 99s 2s/step - loss: 5.6096 - accuracy: 0.7073 - val_loss: 2.6902 - val_accuracy: 0.7188\n",
      "Epoch 3/30\n",
      "65/65 [==============================] - 97s 1s/step - loss: 2.7894 - accuracy: 0.7708 - val_loss: 8.0844 - val_accuracy: 0.7373\n",
      "Epoch 4/30\n",
      "65/65 [==============================] - 96s 1s/step - loss: 1.6756 - accuracy: 0.8356 - val_loss: 1.5703 - val_accuracy: 0.8018\n",
      "Epoch 5/30\n",
      "65/65 [==============================] - 96s 1s/step - loss: 2.0389 - accuracy: 0.8276 - val_loss: 0.7567 - val_accuracy: 0.8809\n",
      "Epoch 6/30\n",
      "65/65 [==============================] - 96s 1s/step - loss: 0.8935 - accuracy: 0.8812 - val_loss: 2.5781 - val_accuracy: 0.7363\n",
      "Epoch 7/30\n",
      "65/65 [==============================] - 95s 1s/step - loss: 0.8729 - accuracy: 0.8795 - val_loss: 0.3657 - val_accuracy: 0.9219\n",
      "Epoch 8/30\n",
      "65/65 [==============================] - 95s 1s/step - loss: 1.0359 - accuracy: 0.8681 - val_loss: 0.3222 - val_accuracy: 0.9199\n",
      "Epoch 9/30\n",
      "65/65 [==============================] - 96s 1s/step - loss: 1.3676 - accuracy: 0.8523 - val_loss: 0.5112 - val_accuracy: 0.9092\n",
      "Epoch 10/30\n",
      "65/65 [==============================] - 96s 1s/step - loss: 0.9031 - accuracy: 0.8773 - val_loss: 0.3388 - val_accuracy: 0.9268\n",
      "Epoch 11/30\n",
      "65/65 [==============================] - 96s 1s/step - loss: 1.2591 - accuracy: 0.8569 - val_loss: 2.3145 - val_accuracy: 0.7363\n",
      "Epoch 12/30\n",
      "65/65 [==============================] - 96s 1s/step - loss: 1.2762 - accuracy: 0.8637 - val_loss: 3.5739 - val_accuracy: 0.6738\n",
      "Epoch 13/30\n",
      "65/65 [==============================] - 96s 1s/step - loss: 1.4018 - accuracy: 0.8605 - val_loss: 0.3884 - val_accuracy: 0.9287\n",
      "Epoch 14/30\n",
      "65/65 [==============================] - 95s 1s/step - loss: 0.8479 - accuracy: 0.8860 - val_loss: 0.5541 - val_accuracy: 0.9023\n",
      "Epoch 15/30\n",
      "65/65 [==============================] - 96s 1s/step - loss: 0.6492 - accuracy: 0.8906 - val_loss: 1.1369 - val_accuracy: 0.8301\n",
      "Epoch 16/30\n",
      "65/65 [==============================] - 95s 1s/step - loss: 1.1825 - accuracy: 0.8613 - val_loss: 0.2749 - val_accuracy: 0.9316\n",
      "Epoch 17/30\n",
      "65/65 [==============================] - 95s 1s/step - loss: 0.6299 - accuracy: 0.9023 - val_loss: 0.4098 - val_accuracy: 0.9238\n",
      "Epoch 18/30\n",
      "65/65 [==============================] - 96s 1s/step - loss: 0.7210 - accuracy: 0.8889 - val_loss: 3.5007 - val_accuracy: 0.6582\n",
      "Epoch 19/30\n",
      "65/65 [==============================] - 95s 1s/step - loss: 0.9687 - accuracy: 0.8807 - val_loss: 0.5593 - val_accuracy: 0.9014\n",
      "Epoch 20/30\n",
      "65/65 [==============================] - 96s 1s/step - loss: 0.6098 - accuracy: 0.9049 - val_loss: 1.5242 - val_accuracy: 0.7744\n",
      "Epoch 21/30\n",
      "65/65 [==============================] - 95s 1s/step - loss: 1.5361 - accuracy: 0.8615 - val_loss: 0.6977 - val_accuracy: 0.8809\n",
      "Epoch 22/30\n",
      "65/65 [==============================] - 95s 1s/step - loss: 0.5219 - accuracy: 0.9107 - val_loss: 0.5599 - val_accuracy: 0.9004\n",
      "Epoch 23/30\n",
      "65/65 [==============================] - 95s 1s/step - loss: 0.6316 - accuracy: 0.9032 - val_loss: 3.5084 - val_accuracy: 0.6553\n",
      "Epoch 24/30\n",
      "65/65 [==============================] - 95s 1s/step - loss: 0.8885 - accuracy: 0.8787 - val_loss: 5.6136 - val_accuracy: 0.7373\n",
      "Epoch 25/30\n",
      "65/65 [==============================] - 95s 1s/step - loss: 0.6203 - accuracy: 0.9093 - val_loss: 1.3240 - val_accuracy: 0.8008\n",
      "Epoch 26/30\n",
      "65/65 [==============================] - 95s 1s/step - loss: 0.7406 - accuracy: 0.8974 - val_loss: 1.0781 - val_accuracy: 0.8330\n",
      "Epoch 27/30\n",
      "65/65 [==============================] - 95s 1s/step - loss: 0.5867 - accuracy: 0.9035 - val_loss: 5.9079 - val_accuracy: 0.5342\n",
      "Epoch 28/30\n",
      "65/65 [==============================] - 95s 1s/step - loss: 1.0438 - accuracy: 0.8649 - val_loss: 0.4393 - val_accuracy: 0.8994\n",
      "Epoch 29/30\n",
      "65/65 [==============================] - 95s 1s/step - loss: 0.4461 - accuracy: 0.9180 - val_loss: 0.4352 - val_accuracy: 0.9150\n",
      "Epoch 30/30\n",
      "65/65 [==============================] - 95s 1s/step - loss: 0.8234 - accuracy: 0.8894 - val_loss: 7.0451 - val_accuracy: 0.7373\n"
     ]
    }
   ],
   "source": [
    "try:\n",
    "    config = ConfigurationManager()\n",
    "    training_config = config.get_training_config()\n",
    "    training = Training(config=training_config)\n",
    "    training.get_base_model()\n",
    "    training.train_valid_generator()\n",
    "    training.train()\n",
    "    \n",
    "except Exception as e:\n",
    "    raise e\n"
   ]
  }
 ],
 "metadata": {
  "kernelspec": {
   "display_name": "kidney",
   "language": "python",
   "name": "python3"
  },
  "language_info": {
   "codemirror_mode": {
    "name": "ipython",
    "version": 3
   },
   "file_extension": ".py",
   "mimetype": "text/x-python",
   "name": "python",
   "nbconvert_exporter": "python",
   "pygments_lexer": "ipython3",
   "version": "3.9.18"
  },
  "orig_nbformat": 4
 },
 "nbformat": 4,
 "nbformat_minor": 2
}
